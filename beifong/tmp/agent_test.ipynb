{
 "cells": [
  {
   "cell_type": "code",
   "execution_count": 1,
   "metadata": {},
   "outputs": [
    {
     "name": "stdout",
     "output_type": "stream",
     "text": [
      "Hello World\n"
     ]
    }
   ],
   "source": [
    "print(\"Hello World\")"
   ]
  },
  {
   "cell_type": "code",
   "execution_count": 19,
   "metadata": {},
   "outputs": [
    {
     "name": "stdout",
     "output_type": "stream",
     "text": [
      "As of my last knowledge update in October 2023, the President of the United States is Joe Biden. He was inaugurated on January 20, 2021. If you are looking for the most current information, especially if you are asking after October 2023, I would recommend checking the latest news sources.\n",
      "As of my last knowledge update in October 2023, the President of India is Droupadi Murmu. She took office on July 25, 2022, and is the first tribal woman to hold the position. Please verify with current sources for the most up-to-date information.\n"
     ]
    }
   ],
   "source": [
    "from typing import Iterator\n",
    "from agno.agent import Agent, RunResponse\n",
    "from agno.models.openai import OpenAIChat\n",
    "from agno.utils.pprint import pprint_run_response\n",
    "from dotenv import load_dotenv\n",
    "from agno.storage.sqlite import SqliteStorage\n",
    "\n",
    "\n",
    "load_dotenv()\n",
    "\n",
    "storage = SqliteStorage(table_name=\"podcast_sessions\", db_file='temp_session.db')\n",
    "agent = Agent(model=OpenAIChat(id=\"gpt-4o-mini\"), num_history_runs=30, add_history_to_messages=True, storage=storage)\n",
    "\n",
    "session_id_1 = '1'\n",
    "session_id_2 = '2'\n",
    "\n",
    "res = agent.run(\"president of usa\", session_id=session_id_1)\n",
    "print(res.content)\n",
    "\n",
    "res = agent.run(\"president of india\", session_id=session_id_2)\n",
    "print(res.content)"
   ]
  },
  {
   "cell_type": "code",
   "execution_count": 20,
   "metadata": {},
   "outputs": [
    {
     "name": "stdout",
     "output_type": "stream",
     "text": [
      "Joe Biden is the 46th President of the United States. He is a member of the Democratic Party and previously served as Vice President from 2009 to 2017 under President Barack Obama. Before that, he was a U.S. Senator from Delaware for 36 years. If you need more specific information about his policies, background, or administration, feel free to ask!\n",
      "Droupadi Murmu is the current President of India, having assumed office on July 25, 2022. She is notable for being the first tribal woman to serve as President in India's history. Before her presidency, she held various political positions, including Governor of Jharkhand. If you have more specific questions about her or her role, feel free to ask!\n"
     ]
    }
   ],
   "source": [
    "res = agent.run(\"who?\", session_id=session_id_1)\n",
    "print(res.content)\n",
    "\n",
    "res = agent.run(\"who?\", session_id=session_id_2)\n",
    "print(res.content)"
   ]
  },
  {
   "cell_type": "code",
   "execution_count": 22,
   "metadata": {},
   "outputs": [
    {
     "name": "stdout",
     "output_type": "stream",
     "text": [
      "Joe Biden is the current President of the United States. He was born on November 20, 1942, and has had a long career in politics, serving in various capacities, including:\n",
      "\n",
      "- **U.S. Senator from Delaware:** Biden served in the Senate from 1973 until 2009.\n",
      "- **Vice President:** He was Vice President under President Barack Obama from 2009 to 2017.\n",
      "- **President:** He was inaugurated as President on January 20, 2021.\n",
      "\n",
      "If you're asking about someone else or need more specific details or context, please let me know!\n"
     ]
    }
   ],
   "source": [
    "agent = Agent(model=OpenAIChat(id=\"gpt-4o-mini\"), num_history_runs=30, add_history_to_messages=True, session_id=session_id_1, storage=storage)\n",
    "res = agent.run('who again?')\n",
    "print(res.content)"
   ]
  },
  {
   "cell_type": "code",
   "execution_count": null,
   "metadata": {},
   "outputs": [],
   "source": []
  }
 ],
 "metadata": {
  "kernelspec": {
   "display_name": "browseruse",
   "language": "python",
   "name": "python3"
  },
  "language_info": {
   "codemirror_mode": {
    "name": "ipython",
    "version": 3
   },
   "file_extension": ".py",
   "mimetype": "text/x-python",
   "name": "python",
   "nbconvert_exporter": "python",
   "pygments_lexer": "ipython3",
   "version": "3.11.12"
  }
 },
 "nbformat": 4,
 "nbformat_minor": 2
}
